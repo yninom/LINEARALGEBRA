{
 "cells": [
  {
   "attachments": {},
   "cell_type": "markdown",
   "metadata": {},
   "source": [
    "# Movies Recommender "
   ]
  },
  {
   "attachments": {},
   "cell_type": "markdown",
   "metadata": {},
   "source": [
    "The npz file format is a compressed file format that is used to store multiple numpy arrays in a single file"
   ]
  },
  {
   "cell_type": "code",
   "execution_count": 1,
   "metadata": {},
   "outputs": [],
   "source": [
    "import numpy as np\n",
    "import pandas as pd"
   ]
  },
  {
   "cell_type": "code",
   "execution_count": 2,
   "metadata": {},
   "outputs": [],
   "source": [
    "movie_titles = np.load('movie_titles.npz')\n",
    "movie_recommend = np.load('movie_recommend.npz')"
   ]
  },
  {
   "cell_type": "code",
   "execution_count": 3,
   "metadata": {},
   "outputs": [
    {
     "data": {
      "text/plain": [
       "['format', 'shape', 'data', 'row', 'col']"
      ]
     },
     "execution_count": 3,
     "metadata": {},
     "output_type": "execute_result"
    }
   ],
   "source": [
    "movie_recommend.files                        #use .files to see the arrays inside"
   ]
  },
  {
   "cell_type": "code",
   "execution_count": 4,
   "metadata": {},
   "outputs": [
    {
     "data": {
      "text/plain": [
       "['titles']"
      ]
     },
     "execution_count": 4,
     "metadata": {},
     "output_type": "execute_result"
    }
   ],
   "source": [
    "movie_titles.files                            #use .files to see the arrays inside"
   ]
  },
  {
   "cell_type": "code",
   "execution_count": 5,
   "metadata": {},
   "outputs": [
    {
     "name": "stdout",
     "output_type": "stream",
     "text": [
      "(3706,)\n"
     ]
    }
   ],
   "source": [
    "titles = movie_titles['titles']               #extract all the arrays from the given files\n",
    "print(titles.shape)"
   ]
  },
  {
   "cell_type": "code",
   "execution_count": 6,
   "metadata": {},
   "outputs": [
    {
     "name": "stdout",
     "output_type": "stream",
     "text": [
      "coo\n"
     ]
    }
   ],
   "source": [
    "format = movie_recommend['format']            #extract all the arrays from the given files\n",
    "print(format)"
   ]
  },
  {
   "cell_type": "code",
   "execution_count": 7,
   "metadata": {},
   "outputs": [
    {
     "name": "stdout",
     "output_type": "stream",
     "text": [
      "[6040 3706]\n"
     ]
    }
   ],
   "source": [
    "shape = movie_recommend['shape']             #extract all the arrays from the given files\n",
    "print(shape)"
   ]
  },
  {
   "cell_type": "code",
   "execution_count": 8,
   "metadata": {},
   "outputs": [
    {
     "name": "stdout",
     "output_type": "stream",
     "text": [
      "(1000209,)\n"
     ]
    }
   ],
   "source": [
    "data = movie_recommend['data']             #extract all the arrays from the given files\n",
    "print(data.shape)"
   ]
  },
  {
   "cell_type": "code",
   "execution_count": 9,
   "metadata": {},
   "outputs": [
    {
     "name": "stdout",
     "output_type": "stream",
     "text": [
      "(1000209,)\n"
     ]
    }
   ],
   "source": [
    "row = movie_recommend['row']               #extract all the arrays from the given files\n",
    "print(row.shape)"
   ]
  },
  {
   "cell_type": "code",
   "execution_count": 10,
   "metadata": {},
   "outputs": [
    {
     "name": "stdout",
     "output_type": "stream",
     "text": [
      "(1000209,)\n"
     ]
    }
   ],
   "source": [
    "col = movie_recommend['col']              #extract all the arrays from the given files\n",
    "print(col.shape)"
   ]
  },
  {
   "attachments": {},
   "cell_type": "markdown",
   "metadata": {},
   "source": [
    "# COO matrix"
   ]
  },
  {
   "attachments": {},
   "cell_type": "markdown",
   "metadata": {},
   "source": [
    "Coordinate list format or COO format stores data as a list of tuple with three elements; row, column, value. The first element is row index, the second element is column index, and the third element is the value to be stored in the row and column"
   ]
  },
  {
   "cell_type": "code",
   "execution_count": 11,
   "metadata": {},
   "outputs": [],
   "source": [
    "from scipy.sparse import coo_matrix\n",
    "data_matrix = coo_matrix((data, (row, col)))"
   ]
  },
  {
   "cell_type": "code",
   "execution_count": 12,
   "metadata": {},
   "outputs": [
    {
     "data": {
      "text/plain": [
       "(6040, 3706)"
      ]
     },
     "execution_count": 12,
     "metadata": {},
     "output_type": "execute_result"
    }
   ],
   "source": [
    "data_matrix.shape"
   ]
  },
  {
   "cell_type": "code",
   "execution_count": 13,
   "metadata": {},
   "outputs": [
    {
     "data": {
      "text/plain": [
       "dtype('int8')"
      ]
     },
     "execution_count": 13,
     "metadata": {},
     "output_type": "execute_result"
    }
   ],
   "source": [
    "data_matrix.dtype"
   ]
  },
  {
   "attachments": {},
   "cell_type": "markdown",
   "metadata": {},
   "source": [
    "# Apply SVD"
   ]
  },
  {
   "cell_type": "code",
   "execution_count": 14,
   "metadata": {},
   "outputs": [],
   "source": [
    "dataset = data_matrix.toarray()      #convert the coo matrix to an array "
   ]
  },
  {
   "cell_type": "code",
   "execution_count": 15,
   "metadata": {},
   "outputs": [],
   "source": [
    "dataset_mean = np.mean(dataset, axis=1)            #normalize the dataset substracting the mean of the rows\n",
    "dataset_norm = dataset - dataset_mean[:, None]"
   ]
  },
  {
   "cell_type": "code",
   "execution_count": 16,
   "metadata": {},
   "outputs": [],
   "source": [
    "# u, sigma, v = np.linalg.svd(dataset_norm, full_matrices=False)   #calculate the SVD\n",
    "# s = np.diag(sigma)"
   ]
  },
  {
   "cell_type": "code",
   "execution_count": 17,
   "metadata": {},
   "outputs": [],
   "source": [
    "# k=51                         #truncate at k\n",
    "# u_t = u[:, :k]\n",
    "# s_t = s[0:k, :k]\n",
    "# v_t = v[:k, :]\n",
    "\n",
    "# dataset_trunc = u_t @ s_t @ v_t"
   ]
  },
  {
   "cell_type": "code",
   "execution_count": null,
   "metadata": {},
   "outputs": [
    {
     "data": {
      "text/plain": [
       "(6040, 3706)"
      ]
     },
     "execution_count": 60,
     "metadata": {},
     "output_type": "execute_result"
    }
   ],
   "source": [
    "# dataset_trunc.shape"
   ]
  },
  {
   "attachments": {},
   "cell_type": "markdown",
   "metadata": {},
   "source": [
    "# The function that recommends"
   ]
  },
  {
   "cell_type": "code",
   "execution_count": 63,
   "metadata": {},
   "outputs": [],
   "source": [
    "# def recommendator(user_ratings, num_recomendaciones=5):\n",
    "#     user_calc = dataset_trunc[user_ratings] @ v_t.T\n",
    "#     user_sort = np.argsort(-user_calc, axis=1)\n",
    "#     selection = [titles[user_sort[i, :num_recomendaciones]] for i in range(len(user_ratings))]\n",
    "#     return selection"
   ]
  },
  {
   "cell_type": "code",
   "execution_count": 64,
   "metadata": {},
   "outputs": [
    {
     "data": {
      "text/plain": [
       "[array([\"Bug's Life, A (1998)\", 'Princess Bride, The (1987)',\n",
       "        'Airplane! (1980)', 'Bambi (1942)',\n",
       "        'Wallace & Gromit: The Best of Aardman Animation (1996)'],\n",
       "       dtype='<U75'),\n",
       " array(['Girl, Interrupted (1999)', 'E.T. the Extra-Terrestrial (1982)',\n",
       "        'Rain Man (1988)', 'Saving Private Ryan (1998)',\n",
       "        'Airplane! (1980)'], dtype='<U75'),\n",
       " array(['My Fair Lady (1964)', 'Tarzan (1999)',\n",
       "        'Star Wars: Episode IV - A New Hope (1977)',\n",
       "        'Girl, Interrupted (1999)', 'Princess Bride, The (1987)'],\n",
       "       dtype='<U75')]"
      ]
     },
     "execution_count": 64,
     "metadata": {},
     "output_type": "execute_result"
    }
   ],
   "source": [
    "# recommendator([1,2,3])"
   ]
  },
  {
   "cell_type": "code",
   "execution_count": 18,
   "metadata": {},
   "outputs": [],
   "source": [
    "def recommendator(user_ratings, ratio):\n",
    "    u, sigma, v = np.linalg.svd(dataset_norm, full_matrices=False)   #calculate the SVD\n",
    "    s = np.diag(sigma)\n",
    "    \n",
    "    k=int(ratio * np.shape(s)[0]) #truncate at k\n",
    "    \n",
    "    u_t = u[:, :k]\n",
    "    s_t = s[0:k, :k]\n",
    "    v_t = v[:k, :]\n",
    "    \n",
    "    dataset_trunc = u_t @ s_t @ v_t\n",
    "    \n",
    "    user_calc = dataset_trunc[user_ratings] @ v_t.T\n",
    "    user_sort = np.argsort(-user_calc, axis=1)\n",
    "    num_rec = 5\n",
    "    selection = [titles[user_sort[i, :num_rec]] for i in range(len(user_ratings))]\n",
    "    return selection"
   ]
  },
  {
   "cell_type": "code",
   "execution_count": 19,
   "metadata": {},
   "outputs": [
    {
     "data": {
      "text/plain": [
       "[array([\"Bug's Life, A (1998)\", 'Princess Bride, The (1987)',\n",
       "        'Airplane! (1980)', 'Bambi (1942)',\n",
       "        'Wallace & Gromit: The Best of Aardman Animation (1996)'],\n",
       "       dtype='<U75'),\n",
       " array(['Girl, Interrupted (1999)', 'E.T. the Extra-Terrestrial (1982)',\n",
       "        'Rain Man (1988)', 'Courage Under Fire (1996)', 'Fargo (1996)'],\n",
       "       dtype='<U75'),\n",
       " array(['My Fair Lady (1964)', 'Tarzan (1999)',\n",
       "        'Star Wars: Episode IV - A New Hope (1977)',\n",
       "        'Girl, Interrupted (1999)', 'Yojimbo (1961)'], dtype='<U75')]"
      ]
     },
     "execution_count": 19,
     "metadata": {},
     "output_type": "execute_result"
    }
   ],
   "source": [
    "recommendator([1,2,3],0.3)"
   ]
  }
 ],
 "metadata": {
  "kernelspec": {
   "display_name": "homeworks",
   "language": "python",
   "name": "python3"
  },
  "language_info": {
   "codemirror_mode": {
    "name": "ipython",
    "version": 3
   },
   "file_extension": ".py",
   "mimetype": "text/x-python",
   "name": "python",
   "nbconvert_exporter": "python",
   "pygments_lexer": "ipython3",
   "version": "3.11.2"
  },
  "orig_nbformat": 4,
  "vscode": {
   "interpreter": {
    "hash": "49e69bb4716113a91a66de989ea890dd75964954426edc72a646151dbf8fe411"
   }
  }
 },
 "nbformat": 4,
 "nbformat_minor": 2
}
