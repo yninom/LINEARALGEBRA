{
 "cells": [
  {
   "attachments": {},
   "cell_type": "markdown",
   "metadata": {},
   "source": [
    "# Flowers: Compression of images "
   ]
  },
  {
   "attachments": {},
   "cell_type": "markdown",
   "metadata": {},
   "source": [
    "https://www.kaggle.com/datasets/l3llff/flowers"
   ]
  },
  {
   "attachments": {},
   "cell_type": "markdown",
   "metadata": {},
   "source": [
    "# Open the images from the folders"
   ]
  },
  {
   "cell_type": "code",
   "execution_count": 1,
   "metadata": {},
   "outputs": [],
   "source": [
    "import numpy as np\n",
    "import pandas as pd\n",
    "import matplotlib.pyplot as plt\n",
    "import os\n",
    "import cv2\n",
    "import seaborn as sns\n",
    "from PIL import Image"
   ]
  },
  {
   "attachments": {},
   "cell_type": "markdown",
   "metadata": {},
   "source": [
    "# The function to compress using SVD"
   ]
  },
  {
   "cell_type": "code",
   "execution_count": 2,
   "metadata": {},
   "outputs": [],
   "source": [
    "def compress_image(input_image, ratio):\n",
    "    img = Image.open(input_image)\n",
    "    img_array = np.asarray(img)\n",
    "    \n",
    "    channels_matrix = np.zeros_like(img_array)  #aqui guardo mi im0 1 y 2\n",
    "    for i in range(0,3):\n",
    "        img_channels = img_array[:,:,i]\n",
    "        u, sigma, v = np.linalg.svd(img_channels)\n",
    "        s = np.diag(sigma)\n",
    "        \n",
    "        k = int(ratio * np.shape(s)[0])\n",
    "        #print(k)\n",
    "        \n",
    "        u = u[:, :k]\n",
    "        s = s[0:k, :k]\n",
    "        v = v[:k, :]\n",
    "        channels_matrix[:,:,i] = u @ s @ v #guardo el svd de cada canal\n",
    "        \n",
    "    compressed = np.dstack((channels_matrix[:,:,0], channels_matrix[:,:,1], channels_matrix[:,:,2]))\n",
    "    compressed = compressed.astype(np.uint8)\n",
    "    \n",
    "    new_img = Image.fromarray(compressed)\n",
    "    n_per=str(ratio)\n",
    "    n=\"_compress_\"+n_per+\".jpg\"\n",
    "    new_img.save(input_image[:-4]+n)"
   ]
  },
  {
   "cell_type": "code",
   "execution_count": 8,
   "metadata": {},
   "outputs": [],
   "source": [
    "compress_image('gato.jpg', 0.01)"
   ]
  },
  {
   "cell_type": "code",
   "execution_count": 9,
   "metadata": {},
   "outputs": [
    {
     "data": {
      "image/png": "[encoded data removed]",
      "text/plain": [
       "<Figure size 640x480 with 1 Axes>"
      ]
     },
     "metadata": {},
     "output_type": "display_data"
    }
   ],
   "source": [
    "im1 = cv2.imread('gato.jpg')\n",
    "im2 = cv2.imread('gato_compress_0.01.jpg')\n",
    "# calculate mean value from RGB channels and flatten to 1D array\n",
    "vals1 = im1.mean(axis=2).flatten()\n",
    "vals2 = im2.mean(axis=2).flatten()\n",
    "\n",
    "plt.hist(vals1, alpha=0.5, label='Original Image')\n",
    "plt.hist(vals2, alpha=0.5, label='Compressed Image 10%')\n",
    "plt.legend(loc='upper right')\n",
    "plt.xlim([0,255])\n",
    "plt.show()"
   ]
  },
  {
   "cell_type": "code",
   "execution_count": 10,
   "metadata": {},
   "outputs": [],
   "source": [
    "size_org = os.path.getsize('gato.jpg')\n",
    "size_compressed = os.path.getsize('gato_compress_0.01.jpg')\n",
    "percentage = 100 - (size_compressed*100/size_org)"
   ]
  },
  {
   "cell_type": "code",
   "execution_count": 11,
   "metadata": {},
   "outputs": [
    {
     "name": "stdout",
     "output_type": "stream",
     "text": [
      "The size of the original image is 201964 and the size of the compressed image is 59598 The size was reduced in a 70.49078053514488 %\n"
     ]
    }
   ],
   "source": [
    "print('The size of the original image is', size_org, \n",
    "      'and the size of the compressed image is', size_compressed, \n",
    "      'The size was reduced in a', percentage, '%')"
   ]
  },
  {
   "attachments": {},
   "cell_type": "markdown",
   "metadata": {},
   "source": [
    "# For many images"
   ]
  },
  {
   "cell_type": "code",
   "execution_count": 7,
   "metadata": {},
   "outputs": [],
   "source": [
    "folder_path = \"C:/Users/ynino/Documents/homeworks/LINEARALGEBRA/IMGCOMPRESSION/flowerstocompress\"\n",
    "for image in os.listdir(folder_path):\n",
    "    if image.endswith(\".jpg\"):\n",
    "        image_path = os.path.join(folder_path, image)\n",
    "        \n",
    "        compress_image(image_path, 0.1)"
   ]
  },
  {
   "attachments": {},
   "cell_type": "markdown",
   "metadata": {},
   "source": [
    "Note that full_matrices=False tells NumPy to only compute the compact SVD, which returns only the singular values and the left and right singular vectors needed to reconstruct the original signal. If you set full_matrices=True, NumPy will compute the full SVD, which can be slower and use more memory."
   ]
  }
 ],
 "metadata": {
  "kernelspec": {
   "display_name": "homeworks",
   "language": "python",
   "name": "python3"
  },
  "language_info": {
   "codemirror_mode": {
    "name": "ipython",
    "version": 3
   },
   "file_extension": ".py",
   "mimetype": "text/x-python",
   "name": "python",
   "nbconvert_exporter": "python",
   "pygments_lexer": "ipython3",
   "version": "3.11.2"
  },
  "orig_nbformat": 4,
  "vscode": {
   "interpreter": {
    "hash": "49e69bb4716113a91a66de989ea890dd75964954426edc72a646151dbf8fe411"
   }
  }
 },
 "nbformat": 4,
 "nbformat_minor": 2
}
