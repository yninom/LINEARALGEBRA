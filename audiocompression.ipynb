{
 "cells": [
  {
   "attachments": {},
   "cell_type": "markdown",
   "metadata": {},
   "source": [
    "# Compress an audio using SVD"
   ]
  },
  {
   "cell_type": "code",
   "execution_count": 1,
   "metadata": {},
   "outputs": [],
   "source": [
    "import numpy as np\n",
    "\n",
    "from pydub import AudioSegment   #for this to find the file have to install FFmpeg and add it to the path in environment variables\n",
    "from pydub.playback import play"
   ]
  },
  {
   "cell_type": "code",
   "execution_count": 2,
   "metadata": {},
   "outputs": [],
   "source": [
    "sound = AudioSegment.from_file(file = 'Wine Bottles Clinking.mp3', format = 'mp3')  #specify the audio an the format of the audio\n",
    "sound_array = np.array(sound.get_array_of_samples())          #get_array_of_samples() returns the raw audio data as an array of (numeric) samples            "
   ]
  },
  {
   "cell_type": "code",
   "execution_count": 3,
   "metadata": {},
   "outputs": [
    {
     "data": {
      "text/plain": [
       "(1382976,)"
      ]
     },
     "execution_count": 3,
     "metadata": {},
     "output_type": "execute_result"
    }
   ],
   "source": [
    "sound_array.shape   #audios transform in a 1D array that cant be used in np.linalg.svd"
   ]
  },
  {
   "cell_type": "code",
   "execution_count": 4,
   "metadata": {},
   "outputs": [],
   "source": [
    "sound_array_2D = sound_array.reshape(1, -1)  #transform the array in a 2D array"
   ]
  },
  {
   "cell_type": "code",
   "execution_count": 5,
   "metadata": {},
   "outputs": [
    {
     "data": {
      "text/plain": [
       "(1, 1382976)"
      ]
     },
     "execution_count": 5,
     "metadata": {},
     "output_type": "execute_result"
    }
   ],
   "source": [
    "sound_array_2D.shape"
   ]
  },
  {
   "cell_type": "code",
   "execution_count": 5,
   "metadata": {},
   "outputs": [],
   "source": [
    "def aud_compress(sound, ratio):\n",
    "    sound = AudioSegment.from_file(file = 'comedy.mp3', format = 'mp3')\n",
    "    sound_array = np.array(sound.get_array_of_samples()) \n",
    "    sound_array_2D = sound_array.reshape(1, -1)\n",
    "    \n",
    "    u, sigma, v = np.linalg.svd(sound_array_2D, full_matrices=False)   #calculate the SVD\n",
    "    s = np.diag(sigma)\n",
    "    \n",
    "    k=int(ratio * np.shape(s)[0]) #truncate at k\n",
    "    \n",
    "    u_t = u[:, :k]\n",
    "    s_t = s[0:k, :k]\n",
    "    v_t = v[:k, :]\n",
    "    \n",
    "    sound_compressed_2D = u @ s @ v                         #reconstruct in 2D\n",
    "    sound_compressed = sound_compressed_2D.reshape(-1)      #reconstruct in 1D\n",
    "    \n",
    "    new_sound = AudioSegment(\n",
    "    data=sound_compressed.tobytes(), sample_width = sound.sample_width, \n",
    "    frame_rate=sound.frame_rate, channels=sound.channels ) \n",
    "    \n",
    "    #Export the compressed audio to a file\n",
    "    new_sound.export(\"new_comedy.mp3\", format=\"mp3\")"
   ]
  },
  {
   "cell_type": "code",
   "execution_count": 6,
   "metadata": {},
   "outputs": [],
   "source": [
    "aud_compress('comedy.mp3',0.5)"
   ]
  }
 ],
 "metadata": {
  "kernelspec": {
   "display_name": "homeworks",
   "language": "python",
   "name": "python3"
  },
  "language_info": {
   "codemirror_mode": {
    "name": "ipython",
    "version": 3
   },
   "file_extension": ".py",
   "mimetype": "text/x-python",
   "name": "python",
   "nbconvert_exporter": "python",
   "pygments_lexer": "ipython3",
   "version": "3.10.10"
  },
  "orig_nbformat": 4,
  "vscode": {
   "interpreter": {
    "hash": "1f626e1e65b5ca4f756366436e7ce50bb013e1fb4464bd9ad53ebf960a4754da"
   }
  }
 },
 "nbformat": 4,
 "nbformat_minor": 2
}
